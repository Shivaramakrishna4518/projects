{
  "nbformat": 4,
  "nbformat_minor": 0,
  "metadata": {
    "colab": {
      "provenance": [],
      "authorship_tag": "ABX9TyNc7RdzHkIwvuFpKSFdjoad",
      "include_colab_link": true
    },
    "kernelspec": {
      "name": "python3",
      "display_name": "Python 3"
    },
    "language_info": {
      "name": "python"
    }
  },
  "cells": [
    {
      "cell_type": "markdown",
      "metadata": {
        "id": "view-in-github",
        "colab_type": "text"
      },
      "source": [
        "<a href=\"https://colab.research.google.com/github/Shivaramakrishna4518/projects/blob/main/Accident_Blind_spot_area.ipynb\" target=\"_parent\"><img src=\"https://colab.research.google.com/assets/colab-badge.svg\" alt=\"Open In Colab\"/></a>"
      ]
    },
    {
      "cell_type": "code",
      "execution_count": null,
      "metadata": {
        "colab": {
          "base_uri": "https://localhost:8080/"
        },
        "id": "ZzITVCK8tRMt",
        "outputId": "3fa6ed99-6b39-4991-bc4e-50eb94a4a22a"
      },
      "outputs": [
        {
          "output_type": "stream",
          "name": "stdout",
          "text": [
            "Dangerous Blackspot Clusters Detected:\n",
            "Cluster 2: [[51.512273 -0.201349]\n",
            " [51.514399 -0.199248]\n",
            " [51.486668 -0.179599]\n",
            " ...\n",
            " [51.580177 -0.155657]\n",
            " [51.374668 -0.223847]\n",
            " [51.380421 -0.217732]]\n",
            "Cluster 4: [[51.517745 -0.10903 ]\n",
            " [51.516133 -0.081711]\n",
            " [51.517683 -0.105141]\n",
            " ...\n",
            " [51.590404 -0.07021 ]\n",
            " [51.594773 -0.106554]\n",
            " [51.603857 -0.068051]]\n",
            "Cluster 1: [[51.488751 -0.1291  ]\n",
            " [51.487737 -0.127557]\n",
            " [51.491484 -0.125675]\n",
            " ...\n",
            " [51.363043 -0.175456]\n",
            " [51.375655 -0.217774]\n",
            " [51.354409 -0.222189]]\n"
          ]
        }
      ],
      "source": [
        "# Accident Blackspot Early Warning System (Python Version)\n",
        "# Description: Detects accident-prone areas from historical data\n",
        "\n",
        "import pandas as pd\n",
        "from sklearn.cluster import KMeans\n",
        "import folium\n",
        "\n",
        "# Step 1: Load Dataset\n",
        "# Replace 'YOUR_FILE_PATH.csv' with the actual path to your data file\n",
        "df = pd.read_csv(\"/content/Road Accident Data.csv\")\n",
        "\n",
        "# Step 2: Prepare Data for Clustering and handle missing values\n",
        "df.dropna(subset=['Latitude', 'Longitude'], inplace=True)\n",
        "coords = df[['Latitude', 'Longitude']]\n",
        "\n",
        "# Step 3: Apply K-Means Clustering to find blackspots\n",
        "kmeans = KMeans(n_clusters=5, random_state=42)\n",
        "df['Cluster'] = kmeans.fit_predict(coords)\n",
        "\n",
        "# Step 4: Calculate average accident count per cluster\n",
        "cluster_accidents = df.groupby('Cluster')['Number_of_Casualties'].sum().reset_index()\n",
        "\n",
        "# Step 5: Identify top dangerous clusters\n",
        "top_clusters = cluster_accidents.sort_values(by='Number_of_Casualties', ascending=False).head(3)\n",
        "dangerous_clusters = top_clusters['Cluster'].tolist()\n",
        "\n",
        "# Step 6: Create Map\n",
        "m = folium.Map(location=[df['Latitude'].mean(), df['Longitude'].mean()], zoom_start=10)\n",
        "\n",
        "# Mark dangerous spots\n",
        "for _, row in df.iterrows():\n",
        "    color = \"red\" if row['Cluster'] in dangerous_clusters else \"blue\"\n",
        "    folium.CircleMarker(\n",
        "        location=[row['Latitude'], row['Longitude']],\n",
        "        radius=5,\n",
        "        color=color,\n",
        "        fill=True,\n",
        "        fill_opacity=0.7,\n",
        "        popup=f\"Accidents: {row['Number_of_Casualties']}\"\n",
        "    ).add_to(m)\n",
        "\n",
        "# Step 7: Save Map\n",
        "m.save(\"accident_blackspots.html\")\n",
        "\n",
        "# Step 8: Warning List\n",
        "print(\"Dangerous Blackspot Clusters Detected:\")\n",
        "for c in dangerous_clusters:\n",
        "    locations = df[df['Cluster'] == c][['Latitude', 'Longitude']].values\n",
        "    print(f\"Cluster {c}: {locations}\")"
      ]
    }
  ]
}